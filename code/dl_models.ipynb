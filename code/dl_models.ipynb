{
 "cells": [
  {
   "cell_type": "markdown",
   "metadata": {},
   "source": [
    "# Deep Learning Model Implementation\n",
    "\n",
    "1. Data Loading\n",
    "2. Label + One-Hot Encoding\n",
    "3. Tokenization + Padding\n",
    "4. Embedding\n",
    "5. Data Splitting\n",
    "6. Model Implementation\n",
    "\n",
    "| Model | Accuracy |\n",
    "| --- | --- |\n",
    "| LSTM | |\n",
    "| Bi-LSTM | |\n",
    "| GRU | |\n",
    "| Bi-GRU | |\n",
    "| 1D-CNN | |"
   ]
  },
  {
   "cell_type": "code",
   "execution_count": 1,
   "metadata": {},
   "outputs": [
    {
     "name": "stderr",
     "output_type": "stream",
     "text": [
      "/home/administrator/.local/lib/python3.12/site-packages/matplotlib/projections/__init__.py:63: UserWarning: Unable to import Axes3D. This may be due to multiple versions of Matplotlib being installed (e.g. as a system package and as a pip package). As a result, the 3D projection is not available.\n",
      "  warnings.warn(\"Unable to import Axes3D. This may be due to multiple versions of \"\n",
      "2024-10-28 13:24:15.881622: I tensorflow/core/util/port.cc:153] oneDNN custom operations are on. You may see slightly different numerical results due to floating-point round-off errors from different computation orders. To turn them off, set the environment variable `TF_ENABLE_ONEDNN_OPTS=0`.\n",
      "2024-10-28 13:24:15.895168: E external/local_xla/xla/stream_executor/cuda/cuda_fft.cc:477] Unable to register cuFFT factory: Attempting to register factory for plugin cuFFT when one has already been registered\n",
      "WARNING: All log messages before absl::InitializeLog() is called are written to STDERR\n",
      "E0000 00:00:1730103855.906791  238674 cuda_dnn.cc:8310] Unable to register cuDNN factory: Attempting to register factory for plugin cuDNN when one has already been registered\n",
      "E0000 00:00:1730103855.909807  238674 cuda_blas.cc:1418] Unable to register cuBLAS factory: Attempting to register factory for plugin cuBLAS when one has already been registered\n",
      "2024-10-28 13:24:15.922047: I tensorflow/core/platform/cpu_feature_guard.cc:210] This TensorFlow binary is optimized to use available CPU instructions in performance-critical operations.\n",
      "To enable the following instructions: AVX2 AVX_VNNI FMA, in other operations, rebuild TensorFlow with the appropriate compiler flags.\n"
     ]
    }
   ],
   "source": [
    "import os, joblib\n",
    "import pandas as pd, numpy as np, seaborn as sns, matplotlib.pyplot as plt\n",
    "from sklearn.model_selection import train_test_split\n",
    "from sklearn.preprocessing import LabelEncoder\n",
    "from sklearn.feature_extraction.text import TfidfVectorizer\n",
    "import tensorflow as tf\n",
    "from tensorflow.keras.models import Sequential\n",
    "from tensorflow.keras.layers import Dense, LSTM, Dropout, Embedding, Bidirectional, Flatten\n",
    "from tensorflow.keras.utils import to_categorical\n",
    "from tensorflow.keras.callbacks import EarlyStopping\n",
    "from tensorflow.keras.optimizers import Adam\n",
    "from tensorflow.keras.preprocessing.sequence import pad_sequences\n",
    "from tensorflow.keras.preprocessing.text import Tokenizer\n",
    "from tensorflow.keras.utils import to_categorical"
   ]
  },
  {
   "cell_type": "code",
   "execution_count": 18,
   "metadata": {},
   "outputs": [
    {
     "name": "stdout",
     "output_type": "stream",
     "text": [
      "{'abbasinYousuf': 0, 'azizMazerwal': 1, 'ghaniKhan': 2, 'hamzaBaba': 3, 'khaliqZiari': 4, 'khatirAfridi': 5, 'khushalKhanKhattak': 6, 'mumtazOrakazi': 7, 'munirJan': 8, 'rahmanBaba': 9, 'rehmatShah': 10, 'sahibShahSabir': 11, 'salimRiaz': 12}\n"
     ]
    }
   ],
   "source": [
    "# Define Data directory\n",
    "DATA_DIR = '../data/'\n",
    "\n",
    "# list of poet names\n",
    "poets = [\"abbasinYousuf\", \"azizMazerwal\", \"ghaniKhan\", \"hamzaBaba\", \"khaliqZiari\", \"khatirAfridi\", \"khushalKhanKhattak\", \"mumtazOrakazi\", \"munirJan\", \"rahmanBaba\", \"rehmatShah\", \"sahibShahSabir\", \"salimRiaz\"]\n",
    "\n",
    "poet_labels = {poet: i for i, poet in enumerate(poets)}\n",
    "print(poet_labels)"
   ]
  },
  {
   "cell_type": "code",
   "execution_count": 19,
   "metadata": {},
   "outputs": [],
   "source": [
    "# Load and Label the Data\n",
    "def load_and_label(data_dir, poets, poet_labels):\n",
    "    data = []\n",
    "    labels = []\n",
    "\n",
    "    for poet in poets:\n",
    "        poet_dir = os.path.join(data_dir, poet)\n",
    "        file_path = os.path.join(poet_dir, f'{poet}.txt')\n",
    "\n",
    "        # Check if the file exists\n",
    "        if not os.path.exists(file_path):\n",
    "            print(f'{file_path} does not exist')\n",
    "            continue\n",
    "\n",
    "        with open(file_path, 'r', encoding='utf-8') as f:\n",
    "            lines = f.readlines()\n",
    "            data.extend(lines)\n",
    "            labels.extend([poet_labels[poet]] * len(lines))\n",
    "\n",
    "    df = pd.DataFrame({'text': data, 'label': labels})\n",
    "    return data, labels, df"
   ]
  },
  {
   "cell_type": "code",
   "execution_count": 20,
   "metadata": {},
   "outputs": [
    {
     "data": {
      "text/html": [
       "<div>\n",
       "<style scoped>\n",
       "    .dataframe tbody tr th:only-of-type {\n",
       "        vertical-align: middle;\n",
       "    }\n",
       "\n",
       "    .dataframe tbody tr th {\n",
       "        vertical-align: top;\n",
       "    }\n",
       "\n",
       "    .dataframe thead th {\n",
       "        text-align: right;\n",
       "    }\n",
       "</style>\n",
       "<table border=\"1\" class=\"dataframe\">\n",
       "  <thead>\n",
       "    <tr style=\"text-align: right;\">\n",
       "      <th></th>\n",
       "      <th>label</th>\n",
       "    </tr>\n",
       "  </thead>\n",
       "  <tbody>\n",
       "    <tr>\n",
       "      <th>count</th>\n",
       "      <td>30354.000000</td>\n",
       "    </tr>\n",
       "    <tr>\n",
       "      <th>mean</th>\n",
       "      <td>7.198854</td>\n",
       "    </tr>\n",
       "    <tr>\n",
       "      <th>std</th>\n",
       "      <td>2.391132</td>\n",
       "    </tr>\n",
       "    <tr>\n",
       "      <th>min</th>\n",
       "      <td>0.000000</td>\n",
       "    </tr>\n",
       "    <tr>\n",
       "      <th>25%</th>\n",
       "      <td>6.000000</td>\n",
       "    </tr>\n",
       "    <tr>\n",
       "      <th>50%</th>\n",
       "      <td>7.000000</td>\n",
       "    </tr>\n",
       "    <tr>\n",
       "      <th>75%</th>\n",
       "      <td>9.000000</td>\n",
       "    </tr>\n",
       "    <tr>\n",
       "      <th>max</th>\n",
       "      <td>12.000000</td>\n",
       "    </tr>\n",
       "  </tbody>\n",
       "</table>\n",
       "</div>"
      ],
      "text/plain": [
       "              label\n",
       "count  30354.000000\n",
       "mean       7.198854\n",
       "std        2.391132\n",
       "min        0.000000\n",
       "25%        6.000000\n",
       "50%        7.000000\n",
       "75%        9.000000\n",
       "max       12.000000"
      ]
     },
     "execution_count": 20,
     "metadata": {},
     "output_type": "execute_result"
    }
   ],
   "source": [
    "data, labels, df = load_and_label(DATA_DIR, poets, poet_labels)\n",
    "df.describe()"
   ]
  },
  {
   "cell_type": "code",
   "execution_count": 5,
   "metadata": {},
   "outputs": [],
   "source": [
    "X = df['text'].values\n",
    "y = df['label'].values\n",
    "\n",
    "# Label Encoding\n",
    "label_encoder = LabelEncoder()\n",
    "y_encoded = label_encoder.fit_transform(y)\n",
    "y_categorical = to_categorical(y_encoded)\n",
    "\n",
    "# TF-IDF Vectorization\n",
    "tfidf_vectorizer = TfidfVectorizer(max_features=5000)\n",
    "X_tfidf = tfidf_vectorizer.fit_transform(X).toarray()"
   ]
  },
  {
   "cell_type": "code",
   "execution_count": 6,
   "metadata": {},
   "outputs": [
    {
     "name": "stdout",
     "output_type": "stream",
     "text": [
      "(30354, 5000) (30354, 13)\n"
     ]
    }
   ],
   "source": [
    "print(X_tfidf.shape, y_categorical.shape)"
   ]
  },
  {
   "cell_type": "code",
   "execution_count": 7,
   "metadata": {},
   "outputs": [
    {
     "data": {
      "text/plain": [
       "((24283, 5000), (6071, 5000), (24283, 13), (6071, 13))"
      ]
     },
     "execution_count": 7,
     "metadata": {},
     "output_type": "execute_result"
    }
   ],
   "source": [
    "X_train, X_test, y_train, y_test = train_test_split(X_tfidf, y_categorical, test_size=0.2, random_state=42)\n",
    "X_train.shape, X_test.shape, y_train.shape, y_test.shape"
   ]
  },
  {
   "cell_type": "code",
   "execution_count": 8,
   "metadata": {},
   "outputs": [],
   "source": [
    "# Useful Functions for Model Building\n",
    "# Function to plot training history\n",
    "def plot_training_history(history, title):\n",
    "    # Plot Training & Validation Loss\n",
    "    plt.figure(figsize=(12, 5))\n",
    "    plt.subplot(1, 2, 1)\n",
    "    plt.plot(history.history['loss'], label='Training Loss')\n",
    "    plt.plot(history.history['val_loss'], label='Validation Loss')\n",
    "    plt.title(f'{title} - Loss')\n",
    "    plt.xlabel('Epoch')\n",
    "    plt.ylabel('Loss')\n",
    "    plt.legend()\n",
    "\n",
    "    # Plot Training & Validation Accuracy\n",
    "    plt.subplot(1, 2, 2)\n",
    "    plt.plot(history.history['accuracy'], label='Training Accuracy')\n",
    "    plt.plot(history.history['val_accuracy'], label='Validation Accuracy')\n",
    "    plt.title(f'{title} - Accuracy')\n",
    "    plt.xlabel('Epoch')\n",
    "    plt.ylabel('Accuracy')\n",
    "    plt.legend()\n",
    "    plt.show()\n",
    "\n",
    "# Function to plot confusion matrix\n",
    "def plot_confusion_matrix(y_true, y_pred, labels):\n",
    "    conf_matrix = confusion_matrix(y_true, y_pred)\n",
    "    plt.figure(figsize=(10, 8))\n",
    "    sns.heatmap(conf_matrix, annot=True, fmt=\"d\", cmap=\"Blues\", xticklabels=labels, yticklabels=labels)\n",
    "    plt.xlabel(\"Predicted Labels\")\n",
    "    plt.ylabel(\"True Labels\")\n",
    "    plt.title(\"Confusion Matrix\")\n",
    "    plt.show()"
   ]
  },
  {
   "cell_type": "markdown",
   "metadata": {},
   "source": [
    "### Bi-LSTM Model, TF-IDF Vectorization"
   ]
  },
  {
   "cell_type": "code",
   "execution_count": null,
   "metadata": {},
   "outputs": [],
   "source": [
    "# Reshape data for LST\n",
    "X_train_reshaped = np.expand_dims(X_train, -1)\n",
    "X_test_reshaped = np.expand_dims(X_test, -1)\n",
    "\n",
    "# Define the LSTM Model\n",
    "print(\"Defining the LSTM model...\")\n",
    "# LSTM_tfidf = Sequential()\n",
    "# LSTM_tfidf.add(LSTM(64, input_shape=(X_train.shape[1], 1), return_sequences=True))\n",
    "# LSTM_tfidf.add(Dropout(0.2))\n",
    "# LSTM_tfidf.add(LSTM(32))\n",
    "# LSTM_tfidf.add(Dropout(0.2))\n",
    "# LSTM_tfidf.add(Dense(y_categorical.shape[1], activation='softmax'))\n",
    "\n",
    "LSTM_bi_tfidf = Sequential()\n",
    "# LSTM_bi_tfidf.add(Bidirectional(LSTM(64, input_shape=(X_train.shape[1], 1), return_sequences=True)))\n",
    "LSTM_bi_tfidf.add(Bidirectional(LSTM(30)))\n",
    "LSTM_bi_tfidf.add(Dense(y_categorical.shape[1], activation='softmax'))\n",
    "\n",
    "# Compile the Model\n",
    "print(\"Compiling the model...\")\n",
    "LSTM_bi_tfidf.compile(optimizer=Adam(learning_rate=0.001), loss='categorical_crossentropy', metrics=['accuracy'])\n",
    "\n",
    "# Train the Model\n",
    "print(\"Training the model...\")\n",
    "history_lstm_tfidf = LSTM_bi_tfidf.fit(X_train_reshaped, y_train, epochs=10, batch_size=32, validation_data=(X_test_reshaped, y_test),\n",
    "                          callbacks=[EarlyStopping(patience=10, restore_best_weights=True)]\n",
    ")"
   ]
  },
  {
   "cell_type": "code",
   "execution_count": null,
   "metadata": {},
   "outputs": [],
   "source": [
    "# Evaluate\n",
    "print(\"Evaluating the model...\")\n",
    "y_pred_lstm_tfidf = np.argmax(LSTM_bi_tfidf.predict(X_test_reshaped), axis=1)\n",
    "y_true_lstm_tfidf = np.argmax(y_test, axis=1)\n",
    "\n",
    "# Confusion Matrix\n",
    "plot_confusion_matrix(y_true_lstm_tfidf, y_pred_lstm_tfidf, poets)\n",
    "\n",
    "# Plot Training History\n",
    "plot_training_history(history_lstm_tfidf, 'LSTM with TF-IDF')"
   ]
  },
  {
   "cell_type": "markdown",
   "metadata": {},
   "source": [
    "### LSTM Model, Tokenization + Padding, Embedding"
   ]
  },
  {
   "cell_type": "code",
   "execution_count": 9,
   "metadata": {},
   "outputs": [],
   "source": [
    "# Tokenization\n",
    "tokenizer = Tokenizer(num_words=500000, oov_token='<OOV>')\n",
    "tokenizer.fit_on_texts(X)\n",
    "word_index = tokenizer.word_index\n",
    "X_tokenized = tokenizer.texts_to_sequences(X)\n",
    "\n",
    "# Padding Sequences\n",
    "max_sequence_length = max([len(x) for x in X_tokenized])\n",
    "X_padded = pad_sequences(X_tokenized, maxlen=max_sequence_length, truncating='post')"
   ]
  },
  {
   "cell_type": "code",
   "execution_count": null,
   "metadata": {},
   "outputs": [],
   "source": [
    "# Split the data\n",
    "X_train_tok, X_test_tok, y_train_tok, y_test_tok = train_test_split(X_padded, y_categorical, test_size=0.2, random_state=42)\n",
    "X_train_tok.shape, X_test_tok.shape, y_train_tok.shape, y_test_tok.shape"
   ]
  },
  {
   "cell_type": "code",
   "execution_count": null,
   "metadata": {},
   "outputs": [],
   "source": [
    "# Define LSTM Model\n",
    "embedding_dim = 300\n",
    "\n",
    "print(\"Defining the LSTM model...\")\n",
    "# LSTM_tok_emb = Sequential()\n",
    "# LSTM_tok_emb.add(Embedding(len(word_index)+1, embedding_dim, input_length=max_sequence_length))\n",
    "# LSTM_tok_emb.add(LSTM(64, return_sequences=True))\n",
    "# LSTM_tok_emb.add(Dropout(0.2))\n",
    "# LSTM_tok_emb.add(LSTM(32))\n",
    "# LSTM_tok_emb.add(Dropout(0.2))\n",
    "# LSTM_tok_emb.add(Dense(y_categorical.shape[1], activation='softmax'))\n",
    "\n",
    "LSTM_tok_emb = Sequential()\n",
    "LSTM_tok_emb.add(Bidirectional(LSTM(30)))\n",
    "LSTM_tok_emb.add(Dense(y_categorical.shape[1], activation='softmax'))\n",
    "\n",
    "# Compile the Model\n",
    "print(\"Compiling the model...\")\n",
    "LSTM_tok_emb.compile(optimizer=Adam(learning_rate=0.001), loss='categorical_crossentropy', metrics=['accuracy'])\n",
    "\n",
    "print(\"Model Summary:\")\n",
    "LSTM_tok_emb.summary()\n",
    "\n",
    "# Train the Model   \n",
    "print(\"Training the model...\")\n",
    "history_lstm_tok_emb = LSTM_tok_emb.fit(X_train_tok, y_train_tok, epochs=10, batch_size=32, validation_data=(X_test_tok, y_test_tok),\n",
    "                          callbacks=[EarlyStopping(patience=10, restore_best_weights=True)]\n",
    ")"
   ]
  },
  {
   "cell_type": "code",
   "execution_count": null,
   "metadata": {},
   "outputs": [],
   "source": [
    "# Evaluate\n",
    "y_pred_lstm_embed = np.argmax(LSTM_tok_emb.predict(X_test_tok), axis=1)\n",
    "y_true_lstm_embed = np.argmax(y_test_tok, axis=1)\n",
    "\n",
    "# Confusion Matrix\n",
    "plot_confusion_matrix(y_true_lstm_embed, y_pred_lstm_embed, poets)\n",
    "\n",
    "# Plot Training History\n",
    "plot_training_history(history_lstm_tok_emb, 'LSTM with Embedding')"
   ]
  }
 ],
 "metadata": {
  "kernelspec": {
   "display_name": "Python 3",
   "language": "python",
   "name": "python3"
  },
  "language_info": {
   "codemirror_mode": {
    "name": "ipython",
    "version": 3
   },
   "file_extension": ".py",
   "mimetype": "text/x-python",
   "name": "python",
   "nbconvert_exporter": "python",
   "pygments_lexer": "ipython3",
   "version": "3.10.12"
  }
 },
 "nbformat": 4,
 "nbformat_minor": 2
}
